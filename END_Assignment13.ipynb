{
  "nbformat": 4,
  "nbformat_minor": 0,
  "metadata": {
    "accelerator": "GPU",
    "colab": {
      "name": "END_Assignment13.ipynb",
      "provenance": [],
      "collapsed_sections": [
        "7u-BIw0TFbUG",
        "HSuTVF1gGJSq",
        "D8AB4SC5Gae9"
      ]
    },
    "kernelspec": {
      "display_name": "Python 3",
      "name": "python3"
    }
  },
  "cells": [
    {
      "cell_type": "markdown",
      "metadata": {
        "id": "7u-BIw0TFbUG"
      },
      "source": [
        "## Book Keeping\r\n"
      ]
    },
    {
      "cell_type": "code",
      "metadata": {
        "colab": {
          "base_uri": "https://localhost:8080/"
        },
        "id": "QUUaX8B9GJ3q",
        "outputId": "e288682e-4864-47c7-ef55-94d8a86fda56"
      },
      "source": [
        "!wget http://www.cs.cornell.edu/~cristian/data/cornell_movie_dialogs_corpus.zip"
      ],
      "execution_count": 5,
      "outputs": [
        {
          "output_type": "stream",
          "text": [
            "--2021-02-25 11:35:57--  http://www.cs.cornell.edu/~cristian/data/cornell_movie_dialogs_corpus.zip\n",
            "Resolving www.cs.cornell.edu (www.cs.cornell.edu)... 132.236.207.36\n",
            "Connecting to www.cs.cornell.edu (www.cs.cornell.edu)|132.236.207.36|:80... connected.\n",
            "HTTP request sent, awaiting response... 200 OK\n",
            "Length: 9916637 (9.5M) [application/zip]\n",
            "Saving to: ‘cornell_movie_dialogs_corpus.zip.1’\n",
            "\n",
            "cornell_movie_dialo 100%[===================>]   9.46M  11.8MB/s    in 0.8s    \n",
            "\n",
            "2021-02-25 11:35:59 (11.8 MB/s) - ‘cornell_movie_dialogs_corpus.zip.1’ saved [9916637/9916637]\n",
            "\n"
          ],
          "name": "stdout"
        }
      ]
    },
    {
      "cell_type": "code",
      "metadata": {
        "colab": {
          "base_uri": "https://localhost:8080/"
        },
        "id": "cJQqBPoFGPga",
        "outputId": "d675b813-6a0d-4437-ef12-f26e56c4ff9d"
      },
      "source": [
        "!unzip cornell_movie_dialogs_corpus.zip"
      ],
      "execution_count": 6,
      "outputs": [
        {
          "output_type": "stream",
          "text": [
            "Archive:  cornell_movie_dialogs_corpus.zip\n",
            "replace cornell movie-dialogs corpus/.DS_Store? [y]es, [n]o, [A]ll, [N]one, [r]ename: y\n",
            "  inflating: cornell movie-dialogs corpus/.DS_Store  \n",
            "replace __MACOSX/cornell movie-dialogs corpus/._.DS_Store? [y]es, [n]o, [A]ll, [N]one, [r]ename: y\n",
            "  inflating: __MACOSX/cornell movie-dialogs corpus/._.DS_Store  \n",
            "replace cornell movie-dialogs corpus/chameleons.pdf? [y]es, [n]o, [A]ll, [N]one, [r]ename: y\n",
            "  inflating: cornell movie-dialogs corpus/chameleons.pdf  \n",
            "replace __MACOSX/cornell movie-dialogs corpus/._chameleons.pdf? [y]es, [n]o, [A]ll, [N]one, [r]ename: y\n",
            "  inflating: __MACOSX/cornell movie-dialogs corpus/._chameleons.pdf  \n",
            "replace cornell movie-dialogs corpus/movie_characters_metadata.txt? [y]es, [n]o, [A]ll, [N]one, [r]ename: A\n",
            "  inflating: cornell movie-dialogs corpus/movie_characters_metadata.txt  \n",
            "  inflating: cornell movie-dialogs corpus/movie_conversations.txt  \n",
            "  inflating: cornell movie-dialogs corpus/movie_lines.txt  \n",
            "  inflating: cornell movie-dialogs corpus/movie_titles_metadata.txt  \n",
            "  inflating: cornell movie-dialogs corpus/raw_script_urls.txt  \n",
            "  inflating: cornell movie-dialogs corpus/README.txt  \n",
            "  inflating: __MACOSX/cornell movie-dialogs corpus/._README.txt  \n"
          ],
          "name": "stdout"
        }
      ]
    },
    {
      "cell_type": "markdown",
      "metadata": {
        "id": "HSuTVF1gGJSq"
      },
      "source": [
        "## Importing Libs"
      ]
    },
    {
      "cell_type": "code",
      "metadata": {
        "id": "a86CZQUvFbax"
      },
      "source": [
        "import torch\r\n",
        "import torch.nn as nn\r\n",
        "import torch.nn.functional as F\r\n",
        "import torch.optim as optim\r\n",
        "import csv, re, random, os, unicodedata, codecs\r\n",
        "from io import open\r\n",
        "import math, itertools\r\n",
        "import matplotlib.pyplot as plt\r\n",
        "import numpy as np\r\n",
        "from fastprogress import progress_bar"
      ],
      "execution_count": 7,
      "outputs": []
    },
    {
      "cell_type": "code",
      "metadata": {
        "id": "rrvrfa1NF2VI"
      },
      "source": [
        "USE_CUDA = torch.cuda.is_available()\r\n",
        "device = torch.device('cuda' if USE_CUDA else 'cpu')"
      ],
      "execution_count": 8,
      "outputs": []
    },
    {
      "cell_type": "markdown",
      "metadata": {
        "id": "D8AB4SC5Gae9"
      },
      "source": [
        "## Reading dataset"
      ]
    },
    {
      "cell_type": "code",
      "metadata": {
        "id": "ElHESsqPGcD7"
      },
      "source": [
        "corpus_name = \"cornell movie-dialogs corpus\"\r\n",
        "corpus = corpus_name"
      ],
      "execution_count": 9,
      "outputs": []
    },
    {
      "cell_type": "code",
      "metadata": {
        "colab": {
          "base_uri": "https://localhost:8080/"
        },
        "id": "Sr0_AXHxGjWN",
        "outputId": "3880ae1d-17f3-4e77-ab71-35d3b8958edb"
      },
      "source": [
        "def printLines(datapath, n=10):\r\n",
        "    with open(datapath, 'rb') as f:\r\n",
        "        lines = f.readlines()\r\n",
        "    for line in lines[:n]:\r\n",
        "        print(line)\r\n",
        "printLines(os.path.join(corpus, \"movie_lines.txt\"))\r\n"
      ],
      "execution_count": 10,
      "outputs": [
        {
          "output_type": "stream",
          "text": [
            "b'L1045 +++$+++ u0 +++$+++ m0 +++$+++ BIANCA +++$+++ They do not!\\n'\n",
            "b'L1044 +++$+++ u2 +++$+++ m0 +++$+++ CAMERON +++$+++ They do to!\\n'\n",
            "b'L985 +++$+++ u0 +++$+++ m0 +++$+++ BIANCA +++$+++ I hope so.\\n'\n",
            "b'L984 +++$+++ u2 +++$+++ m0 +++$+++ CAMERON +++$+++ She okay?\\n'\n",
            "b\"L925 +++$+++ u0 +++$+++ m0 +++$+++ BIANCA +++$+++ Let's go.\\n\"\n",
            "b'L924 +++$+++ u2 +++$+++ m0 +++$+++ CAMERON +++$+++ Wow\\n'\n",
            "b\"L872 +++$+++ u0 +++$+++ m0 +++$+++ BIANCA +++$+++ Okay -- you're gonna need to learn how to lie.\\n\"\n",
            "b'L871 +++$+++ u2 +++$+++ m0 +++$+++ CAMERON +++$+++ No\\n'\n",
            "b'L870 +++$+++ u0 +++$+++ m0 +++$+++ BIANCA +++$+++ I\\'m kidding.  You know how sometimes you just become this \"persona\"?  And you don\\'t know how to quit?\\n'\n",
            "b'L869 +++$+++ u0 +++$+++ m0 +++$+++ BIANCA +++$+++ Like my fear of wearing pastels?\\n'\n"
          ],
          "name": "stdout"
        }
      ]
    },
    {
      "cell_type": "code",
      "metadata": {
        "id": "WpUed8WQG4Bt"
      },
      "source": [
        "# Splits each line of the file into a dictionary of fields\r\n",
        "def loadLines(fileName, fields):\r\n",
        "    lines = {}\r\n",
        "    with open(fileName, 'r', encoding='iso-8859-1') as f:\r\n",
        "        for line in f:\r\n",
        "            values = line.split(\" +++$+++ \")\r\n",
        "            # Extract fields\r\n",
        "            lineObj = {}\r\n",
        "            for i, field in enumerate(fields):\r\n",
        "                lineObj[field] = values[i]\r\n",
        "            lines[lineObj['lineID']] = lineObj\r\n",
        "    return lines\r\n",
        "\r\n",
        "\r\n",
        "# Groups fields of lines from `loadLines` into conversations based on *movie_conversations.txt*\r\n",
        "def loadConversations(fileName, lines, fields):\r\n",
        "    conversations = []\r\n",
        "    with open(fileName, 'r', encoding='iso-8859-1') as f:\r\n",
        "        for line in f:\r\n",
        "            values = line.split(\" +++$+++ \")\r\n",
        "            # Extract fields\r\n",
        "            convObj = {}\r\n",
        "            for i, field in enumerate(fields):\r\n",
        "                convObj[field] = values[i]\r\n",
        "            # Convert string to list (convObj[\"utteranceIDs\"] == \"['L598485', 'L598486', ...]\")\r\n",
        "            utterance_id_pattern = re.compile('L[0-9]+')\r\n",
        "            lineIds = utterance_id_pattern.findall(convObj[\"utteranceIDs\"])\r\n",
        "            # Reassemble lines\r\n",
        "            convObj[\"lines\"] = []\r\n",
        "            for lineId in lineIds:\r\n",
        "                convObj[\"lines\"].append(lines[lineId])\r\n",
        "            conversations.append(convObj)\r\n",
        "    return conversations\r\n",
        "\r\n",
        "\r\n",
        "# Extracts pairs of sentences from conversations\r\n",
        "def extractSentencePairs(conversations):\r\n",
        "    qa_pairs = []\r\n",
        "    for conversation in conversations:\r\n",
        "        # Iterate over all the lines of the conversation\r\n",
        "        for i in range(len(conversation[\"lines\"]) - 1):  # We ignore the last line (no answer for it)\r\n",
        "            inputLine = conversation[\"lines\"][i][\"text\"].strip()\r\n",
        "            targetLine = conversation[\"lines\"][i+1][\"text\"].strip()\r\n",
        "            # Filter wrong samples (if one of the lists is empty)\r\n",
        "            if inputLine and targetLine:\r\n",
        "                qa_pairs.append([inputLine, targetLine])\r\n",
        "    return qa_pairs"
      ],
      "execution_count": 11,
      "outputs": []
    },
    {
      "cell_type": "code",
      "metadata": {
        "colab": {
          "base_uri": "https://localhost:8080/"
        },
        "id": "yyr7EMyvtljm",
        "outputId": "26535038-7463-4926-8de1-c0da1c9e6bce"
      },
      "source": [
        "# Define path to new file\r\n",
        "datafile = os.path.join(corpus, \"formatted_movie_lines.txt\")\r\n",
        "\r\n",
        "delimiter = '\\t'\r\n",
        "# Unescape the delimiter\r\n",
        "delimiter = str(codecs.decode(delimiter, \"unicode_escape\"))\r\n",
        "\r\n",
        "# Initialize lines dict, conversations list, and field ids\r\n",
        "lines = {}\r\n",
        "conversations = []\r\n",
        "MOVIE_LINES_FIELDS = [\"lineID\", \"characterID\", \"movieID\", \"character\", \"text\"]\r\n",
        "MOVIE_CONVERSATIONS_FIELDS = [\"character1ID\", \"character2ID\", \"movieID\", \"utteranceIDs\"]\r\n",
        "\r\n",
        "# Load lines and process conversations\r\n",
        "print(\"\\nProcessing corpus...\")\r\n",
        "lines = loadLines(os.path.join(corpus, \"movie_lines.txt\"), MOVIE_LINES_FIELDS)\r\n",
        "print(\"\\nLoading conversations...\")\r\n",
        "conversations = loadConversations(os.path.join(corpus, \"movie_conversations.txt\"),\r\n",
        "                                  lines, MOVIE_CONVERSATIONS_FIELDS)\r\n",
        "\r\n",
        "# Write new csv file\r\n",
        "print(\"\\nWriting newly formatted file...\")\r\n",
        "with open(datafile, 'w', encoding='utf-8') as outputfile:\r\n",
        "    writer = csv.writer(outputfile, delimiter=delimiter, lineterminator='\\n')\r\n",
        "    for pair in extractSentencePairs(conversations):\r\n",
        "        writer.writerow(pair)\r\n",
        "\r\n",
        "# Print a sample of lines\r\n",
        "print(\"\\nSample lines from file:\")\r\n",
        "printLines(datafile)"
      ],
      "execution_count": 12,
      "outputs": [
        {
          "output_type": "stream",
          "text": [
            "\n",
            "Processing corpus...\n",
            "\n",
            "Loading conversations...\n",
            "\n",
            "Writing newly formatted file...\n",
            "\n",
            "Sample lines from file:\n",
            "b\"Can we make this quick?  Roxanne Korrine and Andrew Barrett are having an incredibly horrendous public break- up on the quad.  Again.\\tWell, I thought we'd start with pronunciation, if that's okay with you.\\n\"\n",
            "b\"Well, I thought we'd start with pronunciation, if that's okay with you.\\tNot the hacking and gagging and spitting part.  Please.\\n\"\n",
            "b\"Not the hacking and gagging and spitting part.  Please.\\tOkay... then how 'bout we try out some French cuisine.  Saturday?  Night?\\n\"\n",
            "b\"You're asking me out.  That's so cute. What's your name again?\\tForget it.\\n\"\n",
            "b\"No, no, it's my fault -- we didn't have a proper introduction ---\\tCameron.\\n\"\n",
            "b\"Cameron.\\tThe thing is, Cameron -- I'm at the mercy of a particularly hideous breed of loser.  My sister.  I can't date until she does.\\n\"\n",
            "b\"The thing is, Cameron -- I'm at the mercy of a particularly hideous breed of loser.  My sister.  I can't date until she does.\\tSeems like she could get a date easy enough...\\n\"\n",
            "b'Why?\\tUnsolved mystery.  She used to be really popular when she started high school, then it was just like she got sick of it or something.\\n'\n",
            "b\"Unsolved mystery.  She used to be really popular when she started high school, then it was just like she got sick of it or something.\\tThat's a shame.\\n\"\n",
            "b'Gosh, if only we could find Kat a boyfriend...\\tLet me see what I can do.\\n'\n"
          ],
          "name": "stdout"
        }
      ]
    },
    {
      "cell_type": "code",
      "metadata": {
        "id": "Hzh40gpuuzOM"
      },
      "source": [
        "PAD_token = 0  # Used for padding short sentences\r\n",
        "SOS_token = 1  # Start-of-sentence token\r\n",
        "EOS_token = 2  # End-of-sentence token\r\n",
        "\r\n",
        "class Voc:\r\n",
        "    def __init__(self, name):\r\n",
        "        self.name = name\r\n",
        "        self.trimmed = False\r\n",
        "        self.word2index = {}\r\n",
        "        self.word2count = {}\r\n",
        "        self.index2word = {PAD_token: \"PAD\", SOS_token: \"SOS\", EOS_token: \"EOS\"}\r\n",
        "        self.num_words = 3  # Count SOS, EOS, PAD\r\n",
        "\r\n",
        "    def addSentence(self, sentence):\r\n",
        "        for word in sentence.split(' '):\r\n",
        "            self.addWord(word)\r\n",
        "\r\n",
        "    def addWord(self, word):\r\n",
        "        if word not in self.word2index:\r\n",
        "            self.word2index[word] = self.num_words\r\n",
        "            self.word2count[word] = 1\r\n",
        "            self.index2word[self.num_words] = word\r\n",
        "            self.num_words += 1\r\n",
        "        else:\r\n",
        "            self.word2count[word] += 1\r\n",
        "\r\n",
        "    # Remove words below a certain count threshold\r\n",
        "    def trim(self, min_count):\r\n",
        "        if self.trimmed:\r\n",
        "            return\r\n",
        "        self.trimmed = True\r\n",
        "\r\n",
        "        keep_words = []\r\n",
        "\r\n",
        "        for k, v in self.word2count.items():\r\n",
        "            if v >= min_count:\r\n",
        "                keep_words.append(k)\r\n",
        "\r\n",
        "        print('keep_words {} / {} = {:.4f}'.format(\r\n",
        "            len(keep_words), len(self.word2index), len(keep_words) / len(self.word2index)\r\n",
        "        ))\r\n",
        "\r\n",
        "        # Reinitialize dictionaries\r\n",
        "        self.word2index = {}\r\n",
        "        self.word2count = {}\r\n",
        "        self.index2word = {PAD_token: \"PAD\", SOS_token: \"SOS\", EOS_token: \"EOS\"}\r\n",
        "        self.num_words = 3 # Count default tokens\r\n",
        "\r\n",
        "        for word in keep_words:\r\n",
        "            self.addWord(word)"
      ],
      "execution_count": 13,
      "outputs": []
    },
    {
      "cell_type": "code",
      "metadata": {
        "colab": {
          "base_uri": "https://localhost:8080/"
        },
        "id": "HSQjECKHxP48",
        "outputId": "f5d1849e-b3e8-485c-84e2-42bb462d4d5e"
      },
      "source": [
        "MAX_LENGTH = 10  # Maximum sentence length to consider\r\n",
        "\r\n",
        "# Turn a Unicode string to plain ASCII, thanks to\r\n",
        "# https://stackoverflow.com/a/518232/2809427\r\n",
        "def unicodeToAscii(s):\r\n",
        "    return ''.join(\r\n",
        "        c for c in unicodedata.normalize('NFD', s)\r\n",
        "        if unicodedata.category(c) != 'Mn'\r\n",
        "    )\r\n",
        "\r\n",
        "# Lowercase, trim, and remove non-letter characters\r\n",
        "def normalizeString(s):\r\n",
        "    s = unicodeToAscii(s.lower().strip())\r\n",
        "    s = re.sub(r\"([.!?])\", r\" \\1\", s)\r\n",
        "    s = re.sub(r\"[^a-zA-Z.!?]+\", r\" \", s)\r\n",
        "    s = re.sub(r\"\\s+\", r\" \", s).strip()\r\n",
        "    return s\r\n",
        "\r\n",
        "# Read query/response pairs and return a voc object\r\n",
        "def readVocs(datafile, corpus_name):\r\n",
        "    print(\"Reading lines...\")\r\n",
        "    # Read the file and split into lines\r\n",
        "    lines = open(datafile, encoding='utf-8').\\\r\n",
        "        read().strip().split('\\n')\r\n",
        "    # Split every line into pairs and normalize\r\n",
        "    pairs = [[normalizeString(s) for s in l.split('\\t')] for l in lines]\r\n",
        "    voc = Voc(corpus_name)\r\n",
        "    return voc, pairs\r\n",
        "\r\n",
        "# Returns True iff both sentences in a pair 'p' are under the MAX_LENGTH threshold\r\n",
        "def filterPair(p):\r\n",
        "    # Input sequences need to preserve the last word for EOS token\r\n",
        "    return len(p[0].split(' ')) < MAX_LENGTH and len(p[1].split(' ')) < MAX_LENGTH\r\n",
        "\r\n",
        "# Filter pairs using filterPair condition\r\n",
        "def filterPairs(pairs):\r\n",
        "    return [pair for pair in pairs if filterPair(pair)]\r\n",
        "\r\n",
        "# Using the functions defined above, return a populated voc object and pairs list\r\n",
        "def loadPrepareData(corpus, corpus_name, datafile, save_dir):\r\n",
        "    print(\"Start preparing training data ...\")\r\n",
        "    voc, pairs = readVocs(datafile, corpus_name)\r\n",
        "    print(\"Read {!s} sentence pairs\".format(len(pairs)))\r\n",
        "    pairs = filterPairs(pairs)\r\n",
        "    print(\"Trimmed to {!s} sentence pairs\".format(len(pairs)))\r\n",
        "    print(\"Counting words...\")\r\n",
        "    for pair in pairs:\r\n",
        "        voc.addSentence(pair[0])\r\n",
        "        voc.addSentence(pair[1])\r\n",
        "    print(\"Counted words:\", voc.num_words)\r\n",
        "    return voc, pairs\r\n",
        "\r\n",
        "\r\n",
        "# Load/Assemble voc and pairs\r\n",
        "save_dir = os.path.join(\"data\", \"save\")\r\n",
        "voc, pairs = loadPrepareData(corpus, corpus_name, datafile, save_dir)\r\n",
        "# Print some pairs to validate\r\n",
        "print(\"\\npairs:\")\r\n",
        "for pair in pairs[:10]:\r\n",
        "    print(pair)"
      ],
      "execution_count": 14,
      "outputs": [
        {
          "output_type": "stream",
          "text": [
            "Start preparing training data ...\n",
            "Reading lines...\n",
            "Read 221282 sentence pairs\n",
            "Trimmed to 64271 sentence pairs\n",
            "Counting words...\n",
            "Counted words: 18008\n",
            "\n",
            "pairs:\n",
            "['there .', 'where ?']\n",
            "['you have my word . as a gentleman', 'you re sweet .']\n",
            "['hi .', 'looks like things worked out tonight huh ?']\n",
            "['you know chastity ?', 'i believe we share an art instructor']\n",
            "['have fun tonight ?', 'tons']\n",
            "['well no . . .', 'then that s all you had to say .']\n",
            "['then that s all you had to say .', 'but']\n",
            "['but', 'you always been this selfish ?']\n",
            "['do you listen to this crap ?', 'what crap ?']\n",
            "['what good stuff ?', 'the real you .']\n"
          ],
          "name": "stdout"
        }
      ]
    },
    {
      "cell_type": "code",
      "metadata": {
        "colab": {
          "base_uri": "https://localhost:8080/"
        },
        "id": "wjX3rCYLxQFX",
        "outputId": "e4a9fd9f-31b0-4735-98f3-91e75bb8e2ac"
      },
      "source": [
        "MIN_COUNT = 3    # Minimum word count threshold for trimming\r\n",
        "\r\n",
        "def trimRareWords(voc, pairs, MIN_COUNT):\r\n",
        "    # Trim words used under the MIN_COUNT from the voc\r\n",
        "    voc.trim(MIN_COUNT)\r\n",
        "    # Filter out pairs with trimmed words\r\n",
        "    keep_pairs = []\r\n",
        "    for pair in pairs:\r\n",
        "        input_sentence = pair[0]\r\n",
        "        output_sentence = pair[1]\r\n",
        "        keep_input = True\r\n",
        "        keep_output = True\r\n",
        "        # Check input sentence\r\n",
        "        for word in input_sentence.split(' '):\r\n",
        "            if word not in voc.word2index:\r\n",
        "                keep_input = False\r\n",
        "                break\r\n",
        "        # Check output sentence\r\n",
        "        for word in output_sentence.split(' '):\r\n",
        "            if word not in voc.word2index:\r\n",
        "                keep_output = False\r\n",
        "                break\r\n",
        "\r\n",
        "        # Only keep pairs that do not contain trimmed word(s) in their input or output sentence\r\n",
        "        if keep_input and keep_output:\r\n",
        "            keep_pairs.append(pair)\r\n",
        "\r\n",
        "    print(\"Trimmed from {} pairs to {}, {:.4f} of total\".format(len(pairs), len(keep_pairs), len(keep_pairs) / len(pairs)))\r\n",
        "    return keep_pairs\r\n",
        "\r\n",
        "\r\n",
        "# Trim voc and pairs\r\n",
        "pairs = trimRareWords(voc, pairs, MIN_COUNT)"
      ],
      "execution_count": 15,
      "outputs": [
        {
          "output_type": "stream",
          "text": [
            "keep_words 7823 / 18005 = 0.4345\n",
            "Trimmed from 64271 pairs to 53165, 0.8272 of total\n"
          ],
          "name": "stdout"
        }
      ]
    },
    {
      "cell_type": "code",
      "metadata": {
        "colab": {
          "base_uri": "https://localhost:8080/"
        },
        "id": "T4MABCf7J6tH",
        "outputId": "c36c118f-cfd8-46fd-88de-d3ed2239a237"
      },
      "source": [
        "def indexesFromSentence(voc, sentence):\r\n",
        "    return [voc.word2index[word] for word in sentence.split(' ')] + [EOS_token]\r\n",
        "\r\n",
        "\r\n",
        "def zeroPadding(l, fillvalue=PAD_token):\r\n",
        "    return list(itertools.zip_longest(*l, fillvalue=fillvalue))\r\n",
        "\r\n",
        "def binaryMatrix(l, value=PAD_token):\r\n",
        "    m = []\r\n",
        "    for i, seq in enumerate(l):\r\n",
        "        m.append([])\r\n",
        "        for token in seq:\r\n",
        "            if token == PAD_token:\r\n",
        "                m[i].append(0)\r\n",
        "            else:\r\n",
        "                m[i].append(1)\r\n",
        "    return m\r\n",
        "\r\n",
        "# Returns padded input sequence tensor and lengths\r\n",
        "def inputVar(l, voc):\r\n",
        "    indexes_batch = [indexesFromSentence(voc, sentence) for sentence in l]\r\n",
        "    lengths = torch.tensor([len(indexes) for indexes in indexes_batch])\r\n",
        "    padList = zeroPadding(indexes_batch)\r\n",
        "    padVar = torch.LongTensor(padList)\r\n",
        "    return padVar, lengths\r\n",
        "\r\n",
        "# Returns padded target sequence tensor, padding mask, and max target length\r\n",
        "def outputVar(l, voc):\r\n",
        "    indexes_batch = [indexesFromSentence(voc, sentence) for sentence in l]\r\n",
        "    max_target_len = max([len(indexes) for indexes in indexes_batch])\r\n",
        "    padList = zeroPadding(indexes_batch)\r\n",
        "    mask = binaryMatrix(padList)\r\n",
        "    mask = torch.BoolTensor(mask)\r\n",
        "    padVar = torch.LongTensor(padList)\r\n",
        "    return padVar, mask, max_target_len\r\n",
        "\r\n",
        "# Returns all items for a given batch of pairs\r\n",
        "def batch2TrainData(voc, pair_batch):\r\n",
        "    pair_batch.sort(key=lambda x: len(x[0].split(\" \")), reverse=True)\r\n",
        "    input_batch, output_batch = [], []\r\n",
        "    for pair in pair_batch:\r\n",
        "        input_batch.append(pair[0])\r\n",
        "        output_batch.append(pair[1])\r\n",
        "    inp, lengths = inputVar(input_batch, voc)\r\n",
        "    output, mask, max_target_len = outputVar(output_batch, voc)\r\n",
        "    return inp, lengths, output, mask, max_target_len\r\n",
        "\r\n",
        "\r\n",
        "# Example for validation\r\n",
        "small_batch_size = 5\r\n",
        "batches = batch2TrainData(voc, [random.choice(pairs) for _ in range(small_batch_size)])\r\n",
        "input_variable, lengths, target_variable, mask, max_target_len = batches\r\n",
        "\r\n",
        "print(\"input_variable:\", input_variable)\r\n",
        "print(\"lengths:\", lengths)\r\n",
        "print(\"target_variable:\", target_variable)\r\n",
        "print(\"mask:\", mask)\r\n",
        "print(\"max_target_len:\", max_target_len)"
      ],
      "execution_count": 16,
      "outputs": [
        {
          "output_type": "stream",
          "text": [
            "input_variable: tensor([[  68,   38,   25,   25,   23],\n",
            "        [   7,   76,  348,  718,    6],\n",
            "        [ 218,  115,   64,  587,    2],\n",
            "        [ 371,  115,    4,    4,    0],\n",
            "        [  21, 6326,    2,    2,    0],\n",
            "        [  56,  122,    0,    0,    0],\n",
            "        [ 960, 7173,    0,    0,    0],\n",
            "        [2484,    4,    0,    0,    0],\n",
            "        [   6,    2,    0,    0,    0],\n",
            "        [   2,    0,    0,    0,    0]])\n",
            "lengths: tensor([10,  9,  5,  5,  3])\n",
            "target_variable: tensor([[ 124,   25,    5,   50,  101],\n",
            "        [  34,  200,   37,  326,  604],\n",
            "        [ 572, 3818, 1550,    6,    7],\n",
            "        [  66,   40,    6,    2,   53],\n",
            "        [   2, 6326,    2,    0,  301],\n",
            "        [   0,    4,    0,    0,  227],\n",
            "        [   0,    2,    0,    0,    4],\n",
            "        [   0,    0,    0,    0,    2]])\n",
            "mask: tensor([[ True,  True,  True,  True,  True],\n",
            "        [ True,  True,  True,  True,  True],\n",
            "        [ True,  True,  True,  True,  True],\n",
            "        [ True,  True,  True,  True,  True],\n",
            "        [ True,  True,  True, False,  True],\n",
            "        [False,  True, False, False,  True],\n",
            "        [False,  True, False, False,  True],\n",
            "        [False, False, False, False,  True]])\n",
            "max_target_len: 8\n"
          ],
          "name": "stdout"
        }
      ]
    },
    {
      "cell_type": "markdown",
      "metadata": {
        "id": "FU_8WiiDQraI"
      },
      "source": [
        "## Model"
      ]
    },
    {
      "cell_type": "code",
      "metadata": {
        "id": "b-n26oc3QuLl"
      },
      "source": [
        "class Encoder(nn.Module):\r\n",
        "    def __init__(self, vocab_size,\r\n",
        "                 embedding,\r\n",
        "                 embed_dims,\r\n",
        "                 pf_dims,\r\n",
        "                 n_layers,\r\n",
        "                 n_heads,\r\n",
        "                 dropout = 0.1,\r\n",
        "                 max_length = 100,\r\n",
        "                 device = 'cuda'\r\n",
        "                 ):\r\n",
        "        super().__init__()\r\n",
        "        # save the parameters\r\n",
        "        self.embed_dims = embed_dims\r\n",
        "        self.device = device\r\n",
        "        # define token embedding \r\n",
        "        self.tok_embedder = embedding\r\n",
        "        #self.tok_embedder = embedding_layer\r\n",
        "        # define scaling parameter for embedding \r\n",
        "        self.scale = torch.sqrt(torch.FloatTensor([embed_dims])).to(device)\r\n",
        "        # adding the position embedding, which embeds the token position into embed dims\r\n",
        "        self.pos_embedder = nn.Embedding(max_length, embed_dims)\r\n",
        "        # adding the dropout for the tok embedding\r\n",
        "        self.dropout = nn.Dropout(dropout)\r\n",
        "        # add the Multiheaded attention layer\r\n",
        "        self.attn_layers = nn.ModuleList()\r\n",
        "        hid_dims = embed_dims\r\n",
        "        for _ in range(n_layers):\r\n",
        "            self.attn_layers.append(EncoderLayer(hid_dims, n_heads, dropout, pf_dims, device=device))\r\n",
        "    \r\n",
        "    def forward(self, src, src_mask):\r\n",
        "        # src: [batch size, srclen]\r\n",
        "        batch_size = src.shape[0]\r\n",
        "        srclen = src.shape[1]\r\n",
        "        # embed the source language tokens into embedding dimensions\r\n",
        "        tok_embedded = self.tok_embedder(src)*self.scale\r\n",
        "        # create a new tensor containing the positions \r\n",
        "        positions = torch.arange(0,srclen).unsqueeze(0).repeat(batch_size, 1).to(self.device)\r\n",
        "        # embed the source positions\r\n",
        "        pos_embedded = self.pos_embedder(positions)\r\n",
        "        # add the position embedding to token embedding and pass through the dropout layer\r\n",
        "        src_embedded = self.dropout((tok_embedded + pos_embedded))\r\n",
        "        x = src_embedded\r\n",
        "        # pass the embedded vaues through the encoder layers \r\n",
        "        for lyr in self.attn_layers:\r\n",
        "            x = lyr(x, src_mask)\r\n",
        "        return x\r\n"
      ],
      "execution_count": 17,
      "outputs": []
    },
    {
      "cell_type": "code",
      "metadata": {
        "id": "YX_xK6rSctrW"
      },
      "source": [
        "class EncoderLayer(nn.Module):\r\n",
        "    def __init__(self,\r\n",
        "                 hid_dims,\r\n",
        "                 n_heads,\r\n",
        "                 dropout,\r\n",
        "                 pf_dims,\r\n",
        "                 device = 'cuda'):\r\n",
        "        super().__init__()\r\n",
        "        # define attention layer \r\n",
        "        self.attnlayer = MultiHeadAttentionLayer(hid_dims, n_heads, dropout, device = device)\r\n",
        "        # define a normalization layer \r\n",
        "        self.postattnnormlayer = nn.LayerNorm(hid_dims)\r\n",
        "        # creating a PointWiseProjection layer\r\n",
        "        self.pointwiselayer = PointWiseProjectionLayer(hid_dims, pf_dims, dropout)\r\n",
        "        # define a normalization layer to be applied after pointwise layer\r\n",
        "        self.postpointwisenormlayer = nn.LayerNorm(hid_dims)\r\n",
        "        # define the dropout layer\r\n",
        "        self.dropout = nn.Dropout(dropout)\r\n",
        "    def forward(self, src, src_mask=None):\r\n",
        "        # src: [batch_size, srclen, embed_dims]\r\n",
        "        # pass through the attention layer\r\n",
        "        _src, _ = self.attnlayer(src, src, src, mask = src_mask)\r\n",
        "        # add the original src to attention based src values and pass through the normalization layer\r\n",
        "        src = self.postattnnormlayer(src + self.dropout(_src))\r\n",
        "        # pass this through the PointWisePorjection layer\r\n",
        "        _src = self.pointwiselayer(src)\r\n",
        "        # add the src to projected src and apply norm layer\r\n",
        "        src = self.postpointwisenormlayer(src + self.dropout(_src))\r\n",
        "        return src"
      ],
      "execution_count": 19,
      "outputs": []
    },
    {
      "cell_type": "code",
      "metadata": {
        "id": "Hrdm7kvyjFyV"
      },
      "source": [
        "class PointWiseProjectionLayer(nn.Module):\r\n",
        "    def __init__(self, hid_dims, out_dims, dropout):\r\n",
        "        super().__init__()\r\n",
        "        self.init_prj = nn.Linear(hid_dims, out_dims)\r\n",
        "        self.out_prj = nn.Linear(out_dims, hid_dims)\r\n",
        "        self.dropout = nn.Dropout(dropout)\r\n",
        "    def forward(self, lin_inp):\r\n",
        "        # lin_inp: [batch_size, srclen, hid_dims]\r\n",
        "        x = self.dropout(torch.relu(self.init_prj(lin_inp)))\r\n",
        "        # x: [batch_size, srclen, out_dims]\r\n",
        "        x = self.out_prj(x)\r\n",
        "        return x\r\n"
      ],
      "execution_count": 21,
      "outputs": []
    },
    {
      "cell_type": "code",
      "metadata": {
        "id": "nuWH4o56eQBj"
      },
      "source": [
        "class MultiHeadAttentionLayer(nn.Module):\r\n",
        "    def __init__(self,\r\n",
        "                 hid_dims,\r\n",
        "                 n_heads,\r\n",
        "                 dropout,\r\n",
        "                 device = 'cuda'):\r\n",
        "        super().__init__()\r\n",
        "        self.n_heads = n_heads\r\n",
        "        self.head_dims = hid_dims//n_heads\r\n",
        "        self.hid_dims = hid_dims\r\n",
        "        self.device = device\r\n",
        "        # create projection layer for each of the query, key and value -- hid_dims here refer to the embedding dims used in encoder/decoder\r\n",
        "        self.q_prj = nn.Linear(hid_dims, hid_dims)\r\n",
        "        self.k_prj = nn.Linear(hid_dims, hid_dims)\r\n",
        "        self.v_prj = nn.Linear(hid_dims, hid_dims)\r\n",
        "        # define a scale parameter to be applied to raw attention scores for stabilization\r\n",
        "        self.scale = torch.sqrt(torch.FloatTensor([self.head_dims])).to(self.device)\r\n",
        "        # define a dropout for attention\r\n",
        "        self.dropout = nn.Dropout(dropout)\r\n",
        "        # define an output projection layer\r\n",
        "        self.out_lyr = nn.Linear(hid_dims, hid_dims)\r\n",
        "\r\n",
        "    def forward(self, query, key, value, mask=None):\r\n",
        "        # query: [batch size, srclen, hid_dims]\r\n",
        "        # key: [batch size, srclen, hid_dims]\r\n",
        "        # value: [batch size, srclen, hid_dims]\r\n",
        "        batch_size = query.shape[0]\r\n",
        "        srclen = query.shape[1]\r\n",
        "        # pass query, key and value through the projection layers\r\n",
        "\r\n",
        "        Q = self.q_prj(query).view(batch_size, -1, self.n_heads, self.head_dims)\r\n",
        "        K = self.k_prj(key).view(batch_size, -1, self.n_heads, self.head_dims)\r\n",
        "        V = self.v_prj(value).view(batch_size, -1, self.n_heads, self.head_dims)\r\n",
        "        # Q,K,V: [batch_size, srclen, n_heads, head_dims]\r\n",
        "        Q = Q.permute(0, 2, 1, 3)\r\n",
        "        K = K.permute(0, 2, 1, 3)\r\n",
        "        V = V.permute(0, 2, 1, 3)\r\n",
        "        # Q,K,V: [batch_size, n_heads, srclen, head_dims]\r\n",
        "\r\n",
        "        # computing the raw energy of the attention \r\n",
        "        energy = torch.matmul(Q, K.permute(0,1,3,2))/self.scale\r\n",
        "        # energy : [batch_size, n_heads, srclen, srclen]\r\n",
        "        # defining extremely small energy at masked locations if provided\r\n",
        "        if mask is not None:\r\n",
        "            energy = energy.masked_fill(mask == 0, -1e10)\r\n",
        "        # apply softmax to raw score \r\n",
        "        attention = torch.softmax(energy, dim = -1)\r\n",
        "        # computed the final value based on attention\r\n",
        "        value = self.dropout(torch.matmul(attention, V))\r\n",
        "        # value : [batch_size, n_heads, srclen, head_dims]\r\n",
        "        value = value.permute(0,2,1,3).contiguous()\r\n",
        "        # reshape to get back the original hidden dims\r\n",
        "        value = value.view(batch_size, -1, self.hid_dims)\r\n",
        "        # value: [batch_size, srclen, hid_dims]\r\n",
        "        # apply the output projection layer\r\n",
        "        out = self.out_lyr(value)\r\n",
        "        # out: [batch_size, srclen, hid_dims]\r\n",
        "        return out, attention"
      ],
      "execution_count": 22,
      "outputs": []
    },
    {
      "cell_type": "code",
      "metadata": {
        "id": "anN6w6A1ik2N"
      },
      "source": [
        "class Decoder(nn.Module):\r\n",
        "    def __init__(self,\r\n",
        "                 vocab_size,\r\n",
        "                 embedding,\r\n",
        "                 embed_dims,\r\n",
        "                 pf_dims,\r\n",
        "                 n_layers,\r\n",
        "                 n_heads,\r\n",
        "                 dropout=0.1,\r\n",
        "                 device = 'cuda',\r\n",
        "                 max_length = 100):\r\n",
        "        super().__init__()\r\n",
        "        self.hid_dims = embed_dims\r\n",
        "        self.device = device\r\n",
        "        self.scale = torch.sqrt(torch.FloatTensor([embed_dims])).to(device)\r\n",
        "        # create the token embedding and position embedding layers\r\n",
        "        self.tok_embedder = embedding\r\n",
        "        #self.tok_embedder = embedding_layer\r\n",
        "        self.pos_embedder = nn.Embedding(max_length, embed_dims)\r\n",
        "        hid_dims = embed_dims\r\n",
        "        # defining out dropout layer\r\n",
        "        self.dropout = nn.Dropout(dropout)\r\n",
        "        # add the decoder layers\r\n",
        "        self.decoder_layers = nn.ModuleList()\r\n",
        "        for _ in range(n_layers):\r\n",
        "            self.decoder_layers.append(DecoderLayer(hid_dims,pf_dims,n_heads,dropout, device = device))\r\n",
        "        # define the final output layer\r\n",
        "        self.out_lyr = nn.Linear(hid_dims, vocab_size)\r\n",
        "    \r\n",
        "    def forward(self, trg, encoder_outputs, trg_mask, src_mask):\r\n",
        "        # trg: [batch_size, trglen]\r\n",
        "        batch_size = trg.shape[0]\r\n",
        "        trglen = trg.shape[1]\r\n",
        "        # pass the target tokens through the embedding layer\r\n",
        "        tok_embedded = self.tok_embedder(trg)*self.scale\r\n",
        "        # tok_embedded: [batch_size, trglen, embed_dims]\r\n",
        "        # create the positions of each token\r\n",
        "        positions = torch.arange(0, trglen).unsqueeze(0).repeat(batch_size, 1).to(self.device)\r\n",
        "        # embedded the positions\r\n",
        "        pos_embedded = self.pos_embedder(positions)\r\n",
        "        # combine both the embeddings\r\n",
        "        trg_embedded = self.dropout(tok_embedded + pos_embedded)\r\n",
        "        # pass through the decoder blocks one by one\r\n",
        "        trg = trg_embedded\r\n",
        "        for lyr in self.decoder_layers:\r\n",
        "            trg, attention = lyr(trg, encoder_outputs, trg_mask, src_mask)\r\n",
        "        # trg: [batch_size, trglen, hid_dims]\r\n",
        "        # pass through the final output layer\r\n",
        "        out = self.out_lyr(trg)\r\n",
        "        return F.softmax(out, dim=-1), attention\r\n"
      ],
      "execution_count": 23,
      "outputs": []
    },
    {
      "cell_type": "code",
      "metadata": {
        "id": "3cCMtx_2l0-_"
      },
      "source": [
        "class DecoderLayer(nn.Module):\r\n",
        "    def __init__(self,\r\n",
        "                 hid_dims,\r\n",
        "                 pf_dims,\r\n",
        "                 n_heads,\r\n",
        "                 dropout,\r\n",
        "                 device = 'cuda'):\r\n",
        "        super().__init__()\r\n",
        "        self.hid_dims = hid_dims\r\n",
        "        self.device = device\r\n",
        "        self.dropout = nn.Dropout(dropout)\r\n",
        "        # define the self attention layer\r\n",
        "        self.self_attn_lyr = MultiHeadAttentionLayer(hid_dims, n_heads, dropout, device = device)\r\n",
        "        # define the decoder - encoder attention layer\r\n",
        "        self.enc_attn_lyr = MultiHeadAttentionLayer(hid_dims, n_heads, dropout, device = device)\r\n",
        "        # pointwise projecttion layer\r\n",
        "        self.pf_lyr = PointWiseProjectionLayer(hid_dims, pf_dims, dropout)\r\n",
        "        # add the selfattn norm layer\r\n",
        "        self.postselfnormlyr = nn.LayerNorm(hid_dims)\r\n",
        "        # add the enc norm layer\r\n",
        "        self.postencnormlyr = nn.LayerNorm(hid_dims)\r\n",
        "        # add the norm layer ffor pointwise layer\r\n",
        "        self.postpfnormlyr = nn.LayerNorm(hid_dims)\r\n",
        "    \r\n",
        "    def forward(self, trg, encoder_outputs, trg_mask, src_mask):\r\n",
        "        # trg: [batch_size, trglen, hid_dims]\r\n",
        "        # pass through the self attention layer\r\n",
        "        _trg, _ = self.self_attn_lyr(trg, trg, trg, trg_mask)\r\n",
        "        # add the residual connection and pass through the normalization layer\r\n",
        "        trg = self.postselfnormlyr(trg + self.dropout(_trg))\r\n",
        "        # pass through the encoder attention layer\r\n",
        "        _trg, attention = self.enc_attn_lyr(trg, encoder_outputs, encoder_outputs, src_mask)\r\n",
        "        # add the residual connection and pass through the normalization layer\r\n",
        "        trg = self.postencnormlyr(trg + self.dropout(_trg))\r\n",
        "        # pass the output through the pointwise layer\r\n",
        "        out = self.postpfnormlyr(trg + self.dropout(self.pf_lyr(trg)))\r\n",
        "        return out, attention\r\n",
        "\r\n"
      ],
      "execution_count": 24,
      "outputs": []
    },
    {
      "cell_type": "code",
      "metadata": {
        "id": "z4j9EPMtOy_j"
      },
      "source": [
        "def create_src_mask(src, src_pad_idx=PAD_token, device='cuda'):\r\n",
        "    src_mask = (src != src_pad_idx).unsqueeze(1).unsqueeze(2)\r\n",
        "    return src_mask\r\n",
        "\r\n",
        "def create_trg_mask(trg, trg_pad_idx=PAD_token,device='cuda'):\r\n",
        "    trg_mask = (trg != trg_pad_idx).unsqueeze(1).unsqueeze(2)\r\n",
        "    trglen = trg.shape[1]\r\n",
        "    # trg_mask: [batch_size, 1, 1, trglen]\r\n",
        "    tril_mask = torch.tril(torch.ones(trglen, trglen)).bool().to(device)\r\n",
        "    # tril_mask: [trglen, trglen]\r\n",
        "    trg_mask  = (trg_mask & tril_mask)\r\n",
        "    # trg_mask: [batch_size, 1, trglen, trglen]\r\n",
        "    return trg_mask\r\n"
      ],
      "execution_count": 25,
      "outputs": []
    },
    {
      "cell_type": "markdown",
      "metadata": {
        "id": "PRu9y6pmv-yg"
      },
      "source": [
        "## Training Utils"
      ]
    },
    {
      "cell_type": "code",
      "metadata": {
        "id": "AD9dMIUmwATT"
      },
      "source": [
        "def maskNLLLoss(inp, target, mask):\r\n",
        "    nTotal = mask.sum()\r\n",
        "    crossEntropy = -torch.log(torch.gather(inp, 1, target.view(-1, 1)).squeeze(1))\r\n",
        "    loss = crossEntropy.masked_select(mask).mean()\r\n",
        "    loss = loss.to(device)\r\n",
        "    return loss, nTotal.item()"
      ],
      "execution_count": 26,
      "outputs": []
    },
    {
      "cell_type": "code",
      "metadata": {
        "id": "YtKZMfD3Nccp"
      },
      "source": [
        "def train(input_variable, lengths, target_variable, mask, max_target_len, encoder, decoder, embedding,\r\n",
        "          encoder_optimizer, decoder_optimizer, batch_size, clip, max_length=MAX_LENGTH):\r\n",
        "    # Zero gradients\r\n",
        "    encoder_optimizer.zero_grad()\r\n",
        "    decoder_optimizer.zero_grad()\r\n",
        "\r\n",
        "    # Set device options\r\n",
        "    # input_variable :[srclen,bs]\r\n",
        "    input_variable = input_variable.transpose(0,1).to(device)\r\n",
        "    target_variable = target_variable.transpose(0,1).to(device)\r\n",
        "    mask = mask.transpose(0,1).to(device)\r\n",
        "    #print(input_variable.shape, target_variable.shape, mask.shape)\r\n",
        "\r\n",
        "\r\n",
        "    # Initialize variables\r\n",
        "    loss = 0\r\n",
        "    print_losses = []\r\n",
        "    n_totals = 0\r\n",
        "    # get src_mask\r\n",
        "    src_mask = create_src_mask(input_variable)\r\n",
        "    # Forward pass through encoder\r\n",
        "    encoder_outputs = encoder(input_variable, src_mask)\r\n",
        "\r\n",
        "    # Create initial decoder input (start with SOS tokens for each sentence)\r\n",
        "    sos_input = torch.LongTensor([SOS_token]*batch_size).unsqueeze(1).to(device)\r\n",
        "    decoder_input = sos_input\r\n",
        "    # Determine if we are using teacher forcing this iteration\r\n",
        "    use_teacher_forcing = True if random.random() < teacher_forcing_ratio else False\r\n",
        "\r\n",
        "    # Forward batch of sequences through decoder one time step at a time\r\n",
        "    if use_teacher_forcing:\r\n",
        "        for t in range(max_target_len):\r\n",
        "            trg_mask = create_trg_mask(decoder_input)\r\n",
        "            #print(trg_mask.dtype, trg_mask.shape)\r\n",
        "            decoder_output, attention = decoder(\r\n",
        "                decoder_input, encoder_outputs, trg_mask, src_mask\r\n",
        "            )\r\n",
        "            # Teacher forcing: next input is current target\r\n",
        "            decoder_input = torch.cat([sos_input, target_variable[:, :(t+1)]], dim=1)\r\n",
        "            # Calculate and accumulate loss\r\n",
        "            mask_loss, nTotal = maskNLLLoss(decoder_output[:,-1,:], target_variable[:,t], mask[:, t])\r\n",
        "            loss += mask_loss\r\n",
        "            print_losses.append(mask_loss.item() * nTotal)\r\n",
        "            n_totals += nTotal\r\n",
        "    else:\r\n",
        "        for t in range(max_target_len):\r\n",
        "            trg_mask = create_trg_mask(decoder_input)\r\n",
        "            decoder_output, attention = decoder(\r\n",
        "                decoder_input, encoder_outputs, trg_mask, src_mask\r\n",
        "            )\r\n",
        "            # No teacher forcing: next input is decoder's own current output\r\n",
        "            _, topi = decoder_output.topk(1)\r\n",
        "            topi_input = torch.LongTensor([topi[i][0] for i in range(batch_size)]).unsqueeze(1)\r\n",
        "            topi_inp = topi_input.to(device)\r\n",
        "            decoder_input = torch.cat([decoder_input, target_variable[:, t]], dim=1)\r\n",
        "            # Calculate and accumulate loss\r\n",
        "            mask_loss, nTotal = maskNLLLoss(decoder_output[:,-1,:], target_variable[:,t], mask[:, t])\r\n",
        "            loss += mask_loss\r\n",
        "            print_losses.append(mask_loss.item() * nTotal)\r\n",
        "            n_totals += nTotal\r\n",
        "\r\n",
        "    # Perform backpropatation\r\n",
        "    loss.backward()\r\n",
        "\r\n",
        "    # Clip gradients: gradients are modified in place\r\n",
        "    _ = nn.utils.clip_grad_norm_(encoder.parameters(), clip)\r\n",
        "    _ = nn.utils.clip_grad_norm_(decoder.parameters(), clip)\r\n",
        "\r\n",
        "    # Adjust model weights\r\n",
        "    encoder_optimizer.step()\r\n",
        "    decoder_optimizer.step()\r\n",
        "\r\n",
        "    return sum(print_losses) / n_totals"
      ],
      "execution_count": 27,
      "outputs": []
    },
    {
      "cell_type": "code",
      "metadata": {
        "id": "xpzssROSwD5w"
      },
      "source": [
        "def trainIters(model_name, voc, pairs, encoder, decoder, encoder_optimizer, decoder_optimizer, embedding, \r\n",
        "               encoder_n_layers, decoder_n_layers, save_dir, n_iteration, batch_size, print_every, save_every, clip, corpus_name, loadFilename):\r\n",
        "\r\n",
        "    # Load batches for each iteration\r\n",
        "    training_batches = [batch2TrainData(voc, [random.choice(pairs) for _ in range(batch_size)])\r\n",
        "                      for _ in range(n_iteration)]\r\n",
        "\r\n",
        "    # Initializations\r\n",
        "    print('Initializing ...')\r\n",
        "    start_iteration = 1\r\n",
        "    print_loss = 0\r\n",
        "    if loadFilename:\r\n",
        "        start_iteration = checkpoint['iteration'] + 1\r\n",
        "\r\n",
        "    # Training loop\r\n",
        "    print(\"Training...\")\r\n",
        "    for iteration in progress_bar(range(start_iteration, n_iteration + 1), total = n_iteration):\r\n",
        "        training_batch = training_batches[iteration - 1]\r\n",
        "        # Extract fields from batch\r\n",
        "        input_variable, lengths, target_variable, mask, max_target_len = training_batch\r\n",
        "\r\n",
        "        # Run a training iteration with batch\r\n",
        "        loss = train(input_variable, lengths, target_variable, mask, max_target_len, encoder,\r\n",
        "                     decoder, embedding, encoder_optimizer, decoder_optimizer, batch_size, clip)\r\n",
        "        print_loss += loss\r\n",
        "\r\n",
        "        # Print progress\r\n",
        "        if iteration % print_every == 0:\r\n",
        "            print_loss_avg = print_loss / print_every\r\n",
        "            print(\"Iteration: {}; Percent complete: {:.1f}%; Average loss: {:.4f}\".format(iteration, iteration / n_iteration * 100, print_loss_avg))\r\n",
        "            print_loss = 0\r\n",
        "\r\n",
        "        # Save checkpoint\r\n",
        "        if (iteration % save_every == 0):\r\n",
        "            directory = os.path.join(save_dir, model_name, corpus_name, '{}-{}_{}'.format(encoder_n_layers, decoder_n_layers, HID_DIM))\r\n",
        "            if not os.path.exists(directory):\r\n",
        "                os.makedirs(directory)\r\n",
        "            torch.save({\r\n",
        "                'iteration': iteration,\r\n",
        "                'en': encoder.state_dict(),\r\n",
        "                'de': decoder.state_dict(),\r\n",
        "                'en_opt': encoder_optimizer.state_dict(),\r\n",
        "                'de_opt': decoder_optimizer.state_dict(),\r\n",
        "                'loss': loss,\r\n",
        "                'voc_dict': voc.__dict__,\r\n",
        "                'embedding': embedding.state_dict()\r\n",
        "            }, os.path.join(directory, '{}_{}.tar'.format(iteration, 'checkpoint')))"
      ],
      "execution_count": 28,
      "outputs": []
    },
    {
      "cell_type": "markdown",
      "metadata": {
        "id": "XN2qOWRKkY59"
      },
      "source": [
        "## Building Model"
      ]
    },
    {
      "cell_type": "code",
      "metadata": {
        "colab": {
          "base_uri": "https://localhost:8080/"
        },
        "id": "2oQqH6ptkaMe",
        "outputId": "a6e68290-16fd-422e-83cb-4e1bb20ffd87"
      },
      "source": [
        "# Configure models\r\n",
        "model_name = 'attn_model'\r\n",
        "dropout = 0.0\r\n",
        "batch_size = 128\r\n",
        "ENC_VOCAB_SIZE = voc.num_words\r\n",
        "DEC_VOCAB_SIZE = voc.num_words\r\n",
        "HID_DIM = 256\r\n",
        "encoder_n_layers = 3\r\n",
        "decoder_n_layers = 3\r\n",
        "ENC_HEADS = 8\r\n",
        "DEC_HEADS = 8\r\n",
        "ENC_PF_DIM = 512\r\n",
        "DEC_PF_DIM = 512\r\n",
        "ENC_DROPOUT = dropout\r\n",
        "DEC_DROPOUT = dropout\r\n",
        "SRC_PAD_IDX = PAD_token\r\n",
        "TRG_PAD_IDX = PAD_token\r\n",
        "\r\n",
        "# Set checkpoint to load from; set to None if starting from scratch\r\n",
        "loadFilename = None\r\n",
        "checkpoint_iter = 4000\r\n",
        "#loadFilename = os.path.join(save_dir, model_name, corpus_name,\r\n",
        "#                            '{}-{}_{}'.format(encoder_n_layers, decoder_n_layers, hidden_size),\r\n",
        "#                            '{}_checkpoint.tar'.format(checkpoint_iter))\r\n",
        "\r\n",
        "\r\n",
        "# # Load model if a loadFilename is provided\r\n",
        "# if loadFilename:\r\n",
        "#     # If loading on same machine the model was trained on\r\n",
        "#     checkpoint = torch.load(loadFilename)\r\n",
        "#     # If loading a model trained on GPU to CPU\r\n",
        "#     #checkpoint = torch.load(loadFilename, map_location=torch.device('cpu'))\r\n",
        "#     model_sd = checkpoint['model']\r\n",
        "#     optimizer_sd = checkpoint['opt']\r\n",
        "#     voc.__dict__ = checkpoint['voc_dict']\r\n",
        "\r\n",
        "\r\n",
        "print('Building encoder and decoder ...')\r\n",
        "embedding = nn.Embedding(voc.num_words, HID_DIM).to(device)\r\n",
        "\r\n",
        "# Initialize word embeddings\r\n",
        "encoder = Encoder(ENC_VOCAB_SIZE, \r\n",
        "              embedding,\r\n",
        "              HID_DIM,\r\n",
        "              ENC_PF_DIM,\r\n",
        "              encoder_n_layers, \r\n",
        "              ENC_HEADS,\r\n",
        "              dropout = ENC_DROPOUT, \r\n",
        "              device = device).to(device)\r\n",
        "\r\n",
        "\r\n",
        "\r\n",
        "decoder = Decoder(DEC_VOCAB_SIZE, \r\n",
        "              embedding,\r\n",
        "              HID_DIM, \r\n",
        "              DEC_PF_DIM,\r\n",
        "              decoder_n_layers,\r\n",
        "              DEC_HEADS,\r\n",
        "              dropout = DEC_DROPOUT, \r\n",
        "              device = device).to(device)\r\n",
        "if loadFilename:\r\n",
        "    #embedding.load_state_dict(embedding_sd)\r\n",
        "    encoder.load_state_dict(encoder_sd)\r\n",
        "    decoder.load_state_dict(decoder_sd)\r\n",
        "# Use appropriate device\r\n",
        "\r\n",
        "\r\n",
        "print('Models built and ready to go!')"
      ],
      "execution_count": 29,
      "outputs": [
        {
          "output_type": "stream",
          "text": [
            "Building encoder and decoder ...\n",
            "Models built and ready to go!\n"
          ],
          "name": "stdout"
        }
      ]
    },
    {
      "cell_type": "markdown",
      "metadata": {
        "id": "DhckOGAAm_K0"
      },
      "source": [
        "## Training Model"
      ]
    },
    {
      "cell_type": "code",
      "metadata": {
        "colab": {
          "base_uri": "https://localhost:8080/",
          "height": 1000
        },
        "id": "Sj-4mgo1mCY3",
        "outputId": "bc527338-c2e6-4864-a139-43a4cf3e8fce"
      },
      "source": [
        "clip = 1.0\r\n",
        "teacher_forcing_ratio = 1.0\r\n",
        "learning_rate = 0.0001\r\n",
        "decoder_learning_ratio = 5.0\r\n",
        "n_iteration = 10000\r\n",
        "print_every = 100\r\n",
        "save_every = 500\r\n",
        "\r\n",
        "# Ensure dropout layers are in train mode\r\n",
        "encoder.train()\r\n",
        "decoder.train()\r\n",
        "\r\n",
        "# Initialize optimizers\r\n",
        "print('Building optimizers ...')\r\n",
        "encoder_optimizer = optim.Adam(encoder.parameters(), lr=learning_rate)\r\n",
        "decoder_optimizer = optim.Adam(decoder.parameters(), lr=learning_rate * decoder_learning_ratio)\r\n",
        "\r\n",
        "# Run training iterations\r\n",
        "print(\"Starting Training!\")\r\n",
        "trainIters(model_name, voc, pairs, encoder, decoder, encoder_optimizer, decoder_optimizer,\r\n",
        "           embedding, encoder_n_layers, decoder_n_layers, save_dir, n_iteration, batch_size,\r\n",
        "           print_every, save_every, clip, corpus_name, loadFilename)"
      ],
      "execution_count": 30,
      "outputs": [
        {
          "output_type": "stream",
          "text": [
            "Building optimizers ...\n",
            "Starting Training!\n",
            "Initializing ...\n",
            "Training...\n"
          ],
          "name": "stdout"
        },
        {
          "output_type": "display_data",
          "data": {
            "text/html": [
              "\n",
              "    <div>\n",
              "        <style>\n",
              "            /* Turns off some styling */\n",
              "            progress {\n",
              "                /* gets rid of default border in Firefox and Opera. */\n",
              "                border: none;\n",
              "                /* Needs to be in here for Safari polyfill so background images work as expected. */\n",
              "                background-size: auto;\n",
              "            }\n",
              "            .progress-bar-interrupted, .progress-bar-interrupted::-webkit-progress-bar {\n",
              "                background: #F44336;\n",
              "            }\n",
              "        </style>\n",
              "      <progress value='10000' class='' max='10000' style='width:300px; height:20px; vertical-align: middle;'></progress>\n",
              "      100.00% [10000/10000 40:01<00:00]\n",
              "    </div>\n",
              "    "
            ],
            "text/plain": [
              "<IPython.core.display.HTML object>"
            ]
          },
          "metadata": {
            "tags": []
          }
        },
        {
          "output_type": "stream",
          "text": [
            "Iteration: 100; Percent complete: 1.0%; Average loss: 4.7390\n",
            "Iteration: 200; Percent complete: 2.0%; Average loss: 3.9048\n",
            "Iteration: 300; Percent complete: 3.0%; Average loss: 3.7177\n",
            "Iteration: 400; Percent complete: 4.0%; Average loss: 3.6230\n",
            "Iteration: 500; Percent complete: 5.0%; Average loss: 3.5028\n",
            "Iteration: 600; Percent complete: 6.0%; Average loss: 3.4353\n",
            "Iteration: 700; Percent complete: 7.0%; Average loss: 3.3620\n",
            "Iteration: 800; Percent complete: 8.0%; Average loss: 3.3011\n",
            "Iteration: 900; Percent complete: 9.0%; Average loss: 3.2455\n",
            "Iteration: 1000; Percent complete: 10.0%; Average loss: 3.2157\n",
            "Iteration: 1100; Percent complete: 11.0%; Average loss: 3.1525\n",
            "Iteration: 1200; Percent complete: 12.0%; Average loss: 3.0729\n",
            "Iteration: 1300; Percent complete: 13.0%; Average loss: 3.0360\n",
            "Iteration: 1400; Percent complete: 14.0%; Average loss: 2.9803\n",
            "Iteration: 1500; Percent complete: 15.0%; Average loss: 2.9339\n",
            "Iteration: 1600; Percent complete: 16.0%; Average loss: 2.8932\n",
            "Iteration: 1700; Percent complete: 17.0%; Average loss: 2.8340\n",
            "Iteration: 1800; Percent complete: 18.0%; Average loss: 2.7679\n",
            "Iteration: 1900; Percent complete: 19.0%; Average loss: 2.7447\n",
            "Iteration: 2000; Percent complete: 20.0%; Average loss: 2.6740\n",
            "Iteration: 2100; Percent complete: 21.0%; Average loss: 2.6253\n",
            "Iteration: 2200; Percent complete: 22.0%; Average loss: 2.5670\n",
            "Iteration: 2300; Percent complete: 23.0%; Average loss: 2.5210\n",
            "Iteration: 2400; Percent complete: 24.0%; Average loss: 2.4568\n",
            "Iteration: 2500; Percent complete: 25.0%; Average loss: 2.4213\n",
            "Iteration: 2600; Percent complete: 26.0%; Average loss: 2.3691\n",
            "Iteration: 2700; Percent complete: 27.0%; Average loss: 2.3280\n",
            "Iteration: 2800; Percent complete: 28.0%; Average loss: 2.2842\n",
            "Iteration: 2900; Percent complete: 29.0%; Average loss: 2.2355\n",
            "Iteration: 3000; Percent complete: 30.0%; Average loss: 2.1939\n",
            "Iteration: 3100; Percent complete: 31.0%; Average loss: 2.1585\n",
            "Iteration: 3200; Percent complete: 32.0%; Average loss: 2.0999\n",
            "Iteration: 3300; Percent complete: 33.0%; Average loss: 2.0589\n",
            "Iteration: 3400; Percent complete: 34.0%; Average loss: 2.0027\n",
            "Iteration: 3500; Percent complete: 35.0%; Average loss: 1.9661\n",
            "Iteration: 3600; Percent complete: 36.0%; Average loss: 1.9302\n",
            "Iteration: 3700; Percent complete: 37.0%; Average loss: 1.8823\n",
            "Iteration: 3800; Percent complete: 38.0%; Average loss: 1.8468\n",
            "Iteration: 3900; Percent complete: 39.0%; Average loss: 1.8172\n",
            "Iteration: 4000; Percent complete: 40.0%; Average loss: 1.7852\n",
            "Iteration: 4100; Percent complete: 41.0%; Average loss: 1.7348\n",
            "Iteration: 4200; Percent complete: 42.0%; Average loss: 1.7030\n",
            "Iteration: 4300; Percent complete: 43.0%; Average loss: 1.6661\n",
            "Iteration: 4400; Percent complete: 44.0%; Average loss: 1.6365\n",
            "Iteration: 4500; Percent complete: 45.0%; Average loss: 1.6080\n",
            "Iteration: 4600; Percent complete: 46.0%; Average loss: 1.5596\n",
            "Iteration: 4700; Percent complete: 47.0%; Average loss: 1.5323\n",
            "Iteration: 4800; Percent complete: 48.0%; Average loss: 1.4951\n",
            "Iteration: 4900; Percent complete: 49.0%; Average loss: 1.4666\n",
            "Iteration: 5000; Percent complete: 50.0%; Average loss: 1.4414\n",
            "Iteration: 5100; Percent complete: 51.0%; Average loss: 1.4232\n",
            "Iteration: 5200; Percent complete: 52.0%; Average loss: 1.3927\n",
            "Iteration: 5300; Percent complete: 53.0%; Average loss: 1.3564\n",
            "Iteration: 5400; Percent complete: 54.0%; Average loss: 1.3270\n",
            "Iteration: 5500; Percent complete: 55.0%; Average loss: 1.3139\n",
            "Iteration: 5600; Percent complete: 56.0%; Average loss: 1.2965\n",
            "Iteration: 5700; Percent complete: 57.0%; Average loss: 1.2505\n",
            "Iteration: 5800; Percent complete: 58.0%; Average loss: 1.2358\n",
            "Iteration: 5900; Percent complete: 59.0%; Average loss: 1.2011\n",
            "Iteration: 6000; Percent complete: 60.0%; Average loss: 1.1989\n",
            "Iteration: 6100; Percent complete: 61.0%; Average loss: 1.1795\n",
            "Iteration: 6200; Percent complete: 62.0%; Average loss: 1.1500\n",
            "Iteration: 6300; Percent complete: 63.0%; Average loss: 1.1382\n",
            "Iteration: 6400; Percent complete: 64.0%; Average loss: 1.1116\n",
            "Iteration: 6500; Percent complete: 65.0%; Average loss: 1.1058\n",
            "Iteration: 6600; Percent complete: 66.0%; Average loss: 1.0852\n",
            "Iteration: 6700; Percent complete: 67.0%; Average loss: 1.0668\n",
            "Iteration: 6800; Percent complete: 68.0%; Average loss: 1.0389\n",
            "Iteration: 6900; Percent complete: 69.0%; Average loss: 1.0198\n",
            "Iteration: 7000; Percent complete: 70.0%; Average loss: 1.0159\n",
            "Iteration: 7100; Percent complete: 71.0%; Average loss: 0.9893\n",
            "Iteration: 7200; Percent complete: 72.0%; Average loss: 0.9812\n",
            "Iteration: 7300; Percent complete: 73.0%; Average loss: 0.9502\n",
            "Iteration: 7400; Percent complete: 74.0%; Average loss: 0.9588\n",
            "Iteration: 7500; Percent complete: 75.0%; Average loss: 0.9421\n",
            "Iteration: 7600; Percent complete: 76.0%; Average loss: 0.9220\n",
            "Iteration: 7700; Percent complete: 77.0%; Average loss: 0.9039\n",
            "Iteration: 7800; Percent complete: 78.0%; Average loss: 0.8944\n",
            "Iteration: 7900; Percent complete: 79.0%; Average loss: 0.8781\n",
            "Iteration: 8000; Percent complete: 80.0%; Average loss: 0.8614\n",
            "Iteration: 8100; Percent complete: 81.0%; Average loss: 0.8571\n",
            "Iteration: 8200; Percent complete: 82.0%; Average loss: 0.8356\n",
            "Iteration: 8300; Percent complete: 83.0%; Average loss: 0.8347\n",
            "Iteration: 8400; Percent complete: 84.0%; Average loss: 0.8269\n",
            "Iteration: 8500; Percent complete: 85.0%; Average loss: 0.8106\n",
            "Iteration: 8600; Percent complete: 86.0%; Average loss: 0.7943\n",
            "Iteration: 8700; Percent complete: 87.0%; Average loss: 0.7796\n",
            "Iteration: 8800; Percent complete: 88.0%; Average loss: 0.7822\n",
            "Iteration: 8900; Percent complete: 89.0%; Average loss: 0.7662\n",
            "Iteration: 9000; Percent complete: 90.0%; Average loss: 0.7571\n",
            "Iteration: 9100; Percent complete: 91.0%; Average loss: 0.7479\n",
            "Iteration: 9200; Percent complete: 92.0%; Average loss: 0.7318\n",
            "Iteration: 9300; Percent complete: 93.0%; Average loss: 0.7364\n",
            "Iteration: 9400; Percent complete: 94.0%; Average loss: 0.7253\n",
            "Iteration: 9500; Percent complete: 95.0%; Average loss: 0.7297\n",
            "Iteration: 9600; Percent complete: 96.0%; Average loss: 0.7071\n",
            "Iteration: 9700; Percent complete: 97.0%; Average loss: 0.6931\n",
            "Iteration: 9800; Percent complete: 98.0%; Average loss: 0.6771\n",
            "Iteration: 9900; Percent complete: 99.0%; Average loss: 0.6892\n",
            "Iteration: 10000; Percent complete: 100.0%; Average loss: 0.6837\n"
          ],
          "name": "stdout"
        }
      ]
    },
    {
      "cell_type": "markdown",
      "metadata": {
        "id": "u7ZXuOHbkCka"
      },
      "source": [
        "## Evaluate model"
      ]
    },
    {
      "cell_type": "code",
      "metadata": {
        "id": "aooXwB3fnYQF"
      },
      "source": [
        "def evaluate(encoder, decoder, searcher, voc, sentence, max_length=MAX_LENGTH):\r\n",
        "    ### Format input sentence as a batch\r\n",
        "    # words -> indexes\r\n",
        "    indexes_batch = [indexesFromSentence(voc, sentence)]\r\n",
        "    # Create lengths tensor\r\n",
        "    lengths = torch.tensor([len(indexes) for indexes in indexes_batch])\r\n",
        "    # Transpose dimensions of batch to match models' expectations\r\n",
        "    input_batch = torch.LongTensor(indexes_batch)#.transpose(0, 1)\r\n",
        "    # Use appropriate device\r\n",
        "    input_batch = input_batch.to(device)\r\n",
        "    lengths = lengths.to(device)\r\n",
        "    # Decode sentence with searcher\r\n",
        "    tokens, scores = searcher(input_batch, lengths, max_length)\r\n",
        "    # indexes -> words\r\n",
        "    decoded_words = [voc.index2word[token] for token in tokens]\r\n",
        "    return decoded_words\r\n",
        "\r\n",
        "\r\n",
        "def evaluateInput(encoder, decoder, searcher, voc):\r\n",
        "    input_sentence = ''\r\n",
        "    while(1):\r\n",
        "        try:\r\n",
        "            # Get input sentence\r\n",
        "            input_sentence = input('> ')\r\n",
        "            # Check if it is quit case\r\n",
        "            if input_sentence == 'q' or input_sentence == 'quit': break\r\n",
        "            # Normalize sentence\r\n",
        "            input_sentence = normalizeString(input_sentence)\r\n",
        "            # Evaluate sentence\r\n",
        "            output_words = evaluate(encoder, decoder, searcher, voc, input_sentence)\r\n",
        "            # Format and print response sentence\r\n",
        "            output_words[:] = [x for x in output_words if not (x == 'EOS' or x == 'PAD')]\r\n",
        "            print('Bot:', ' '.join(output_words))\r\n",
        "\r\n",
        "        except KeyError:\r\n",
        "            print(\"Error: Encountered unknown word.\")\r\n"
      ],
      "execution_count": 31,
      "outputs": []
    },
    {
      "cell_type": "code",
      "metadata": {
        "id": "V7PrR9BWkcYR"
      },
      "source": [
        "class GreedySearchDecoder(nn.Module):\r\n",
        "    def __init__(self, encoder, decoder):\r\n",
        "        super(GreedySearchDecoder, self).__init__()\r\n",
        "        self.encoder = encoder\r\n",
        "        self.decoder = decoder\r\n",
        "\r\n",
        "\r\n",
        "    def forward(self, input_seq, input_length, max_length):\r\n",
        "        self.encoder.eval()\r\n",
        "        self.decoder.eval()\r\n",
        "        # get source mask\r\n",
        "        src_mask = create_src_mask(input_seq)\r\n",
        "        # get encoder_outputs\r\n",
        "        encoder_outputs = self.encoder(input_seq, src_mask)\r\n",
        "        # Initialize decoder input with SOS_token\r\n",
        "        trg_indexes = [SOS_token]\r\n",
        "        # \r\n",
        "        for i in range(max_length):\r\n",
        "\r\n",
        "            trg_tensor = torch.LongTensor(trg_indexes).unsqueeze(0).to(device)\r\n",
        "\r\n",
        "            trg_mask = create_trg_mask(trg_tensor)\r\n",
        "        \r\n",
        "            with torch.no_grad():\r\n",
        "                output, attention = self.decoder(trg_tensor, encoder_outputs, trg_mask, src_mask)\r\n",
        "        \r\n",
        "            pred_token = output.argmax(2)[:,-1].item()\r\n",
        "        \r\n",
        "            trg_indexes.append(pred_token)\r\n",
        "\r\n",
        "            if pred_token == EOS_token:\r\n",
        "                break\r\n",
        "        \r\n",
        "        return trg_indexes[1:], attention\r\n",
        "        \r\n",
        "        "
      ],
      "execution_count": 32,
      "outputs": []
    },
    {
      "cell_type": "code",
      "metadata": {
        "colab": {
          "base_uri": "https://localhost:8080/"
        },
        "id": "pe13KrGHoWm7",
        "outputId": "996efbe5-776c-40e7-9740-c639923c470d"
      },
      "source": [
        "# Initialize search module\r\n",
        "searcher = GreedySearchDecoder(encoder, decoder)\r\n",
        "\r\n",
        "# Begin chatting (uncomment and run the following line to begin)\r\n",
        "evaluateInput(encoder, decoder, searcher, voc)"
      ],
      "execution_count": 33,
      "outputs": [
        {
          "output_type": "stream",
          "text": [
            "> Hi\n",
            "Bot: hi . . . . . . . ?\n",
            "> When will the world end?\n",
            "Bot: soon as an even know me .\n",
            "> what do we do when we feel sad?\n",
            "Bot: very soon day .\n",
            "> What is the square root of pi?\n",
            "Error: Encountered unknown word.\n",
            "> q\n"
          ],
          "name": "stdout"
        }
      ]
    },
    {
      "cell_type": "code",
      "metadata": {
        "id": "EiURGcj2om-A"
      },
      "source": [
        ""
      ],
      "execution_count": null,
      "outputs": []
    }
  ]
}