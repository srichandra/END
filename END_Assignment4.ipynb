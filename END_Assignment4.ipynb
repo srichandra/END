{
  "nbformat": 4,
  "nbformat_minor": 0,
  "metadata": {
    "colab": {
      "name": "END4_Sent2.ipynb",
      "provenance": [],
      "collapsed_sections": []
    },
    "kernelspec": {
      "name": "python3",
      "display_name": "Python 3"
    },
    "accelerator": "GPU"
  },
  "cells": [
    {
      "cell_type": "code",
      "metadata": {
        "id": "xSokCHMnLGfC"
      },
      "source": [
        "import torch\n",
        "from torchtext import data\n",
        "from torchtext import datasets\n",
        "\n",
        "SEED = 1234\n",
        "torch.manual_seed(SEED)\n",
        "torch.backends.cudnn.deterministic = True\n",
        "TEXT = data.Field(tokenize = 'spacy', include_lengths = True)\n",
        "LABEL = data.LabelField(dtype = torch.float)"
      ],
      "execution_count": 96,
      "outputs": []
    },
    {
      "cell_type": "code",
      "metadata": {
        "id": "B8Ihvka-OBYY"
      },
      "source": [
        "from torchtext import datasets\n",
        "\n",
        "train_data, test_data = datasets.IMDB.splits(TEXT, LABEL)"
      ],
      "execution_count": 97,
      "outputs": []
    },
    {
      "cell_type": "code",
      "metadata": {
        "id": "nrENG_E8eXPL"
      },
      "source": [
        "import random\n",
        "train_data, valid_data = train_data.split(random_state = random.seed(SEED))\n"
      ],
      "execution_count": 98,
      "outputs": []
    },
    {
      "cell_type": "code",
      "metadata": {
        "id": "WSQq2IDKiW2u",
        "colab": {
          "base_uri": "https://localhost:8080/"
        },
        "outputId": "0216ac2a-8dc2-4b54-f436-4198a254184b"
      },
      "source": [
        "print(vars(train_data.examples[0]).get('text'))\n",
        "for i in range(len(train_data)):\n",
        "  vars(train_data.examples[i]).get('text').reverse()\n",
        "print(vars(train_data.examples[0]).get('text'))"
      ],
      "execution_count": 99,
      "outputs": [
        {
          "output_type": "stream",
          "text": [
            "['I', 'stopped', 'by', 'BB', 'and', 'picked', 'up', '4', 'zombie', 'flicks', 'to', 'watch', 'over', 'the', 'weekend', '.', 'Now', ',', 'I', 'understand', 'that', 'the', 'effects', 'will', 'be', 'cheesy', ',', 'the', 'acting', 'will', 'be', 'sub', '-', 'par', ',', 'and', 'the', 'sets', 'will', 'be', 'suspect', '.', 'So', 'I', \"'m\", 'not', 'expecting', 'much', '.', 'But', 'it', 'should', 'at', 'least', 'have', 'a', 'story', '.', 'Stories', 'do', \"n't\", 'cost', 'a', 'thing', 'except', 'time', '.....', 'apparently', ',', 'they', 'did', \"n't\", 'have', 'any', 'time', 'either.<br', '/><br', '/>\"Zombie', 'Nation', '\"', 'had', '5', 'zombies', 'that', 'appeared', 'near', 'the', 'end', 'of', 'the', 'movie', 'that', 'all', 'looked', 'like', 'new', 'wave', 'hookers', '.', 'The', 'picture', 'of', 'the', 'zombie', 'on', 'the', 'front', 'cover', 'NEVER', 'appears', 'in', 'the', 'movie', '.', 'It', 'was', 'absolutely', 'agonizing', 'to', 'watch', 'and', 'had', 'nothing', 'to', 'offer', 'the', 'genre.<br', '/><br', '/>The', 'running', 'time', 'is', 'only', '81', 'minutes', 'but', 'it', 'felt', 'like', '2', 'hours', '.', 'According', 'to', 'my', 'wife', '(', 'who', 'could', 'only', 'hear', 'the', 'movie', 'since', 'she', 'was', 'on', 'the', 'computer', 'in', 'another', 'room', ')', ',', 'it', 'sounded', 'like', 'zombie', 'porn', '....', 'which', 'if', 'you', 'think', 'about', ',', 'sounds', 'kinda', 'gross', '.....', 'but', 'it', 'was', \"n't\", 'even', 'that', 'good.<br', '/><br', '/>The', 'only', 'suggestion', 'I', 'can', 'make', 'is', 'that', 'maybe', 'the', 'writer', 'tried', 'to', 'do', 'too', 'many', 'things', 'and', 'ended', 'up', 'with', 'an', 'incoherent', 'mess.<br', '/><br', '/>It', 'ended', 'up', 'being', 'a', 'free', 'rental', 'and', 'I', 'still', 'feel', 'ripped', 'off', '.', 'I', 'rated', 'it', 'a', '1', 'out', 'of', '10', 'because', 'IMDb', 'wo', \"n't\", 'allow', 'me', 'to', 'use', 'decimals', '.']\n",
            "['.', 'decimals', 'use', 'to', 'me', 'allow', \"n't\", 'wo', 'IMDb', 'because', '10', 'of', 'out', '1', 'a', 'it', 'rated', 'I', '.', 'off', 'ripped', 'feel', 'still', 'I', 'and', 'rental', 'free', 'a', 'being', 'up', 'ended', '/>It', '/><br', 'mess.<br', 'incoherent', 'an', 'with', 'up', 'ended', 'and', 'things', 'many', 'too', 'do', 'to', 'tried', 'writer', 'the', 'maybe', 'that', 'is', 'make', 'can', 'I', 'suggestion', 'only', '/>The', '/><br', 'good.<br', 'that', 'even', \"n't\", 'was', 'it', 'but', '.....', 'gross', 'kinda', 'sounds', ',', 'about', 'think', 'you', 'if', 'which', '....', 'porn', 'zombie', 'like', 'sounded', 'it', ',', ')', 'room', 'another', 'in', 'computer', 'the', 'on', 'was', 'she', 'since', 'movie', 'the', 'hear', 'only', 'could', 'who', '(', 'wife', 'my', 'to', 'According', '.', 'hours', '2', 'like', 'felt', 'it', 'but', 'minutes', '81', 'only', 'is', 'time', 'running', '/>The', '/><br', 'genre.<br', 'the', 'offer', 'to', 'nothing', 'had', 'and', 'watch', 'to', 'agonizing', 'absolutely', 'was', 'It', '.', 'movie', 'the', 'in', 'appears', 'NEVER', 'cover', 'front', 'the', 'on', 'zombie', 'the', 'of', 'picture', 'The', '.', 'hookers', 'wave', 'new', 'like', 'looked', 'all', 'that', 'movie', 'the', 'of', 'end', 'the', 'near', 'appeared', 'that', 'zombies', '5', 'had', '\"', 'Nation', '/>\"Zombie', '/><br', 'either.<br', 'time', 'any', 'have', \"n't\", 'did', 'they', ',', 'apparently', '.....', 'time', 'except', 'thing', 'a', 'cost', \"n't\", 'do', 'Stories', '.', 'story', 'a', 'have', 'least', 'at', 'should', 'it', 'But', '.', 'much', 'expecting', 'not', \"'m\", 'I', 'So', '.', 'suspect', 'be', 'will', 'sets', 'the', 'and', ',', 'par', '-', 'sub', 'be', 'will', 'acting', 'the', ',', 'cheesy', 'be', 'will', 'effects', 'the', 'that', 'understand', 'I', ',', 'Now', '.', 'weekend', 'the', 'over', 'watch', 'to', 'flicks', 'zombie', '4', 'up', 'picked', 'and', 'BB', 'by', 'stopped', 'I']\n"
          ],
          "name": "stdout"
        }
      ]
    },
    {
      "cell_type": "code",
      "metadata": {
        "id": "nkaSOQdPW5mS"
      },
      "source": [
        "MAX_VOCAB_SIZE = 25_000\n",
        "\n",
        "TEXT.build_vocab(train_data, \n",
        "                 max_size = MAX_VOCAB_SIZE, \n",
        "                 vectors = \"glove.6B.100d\", \n",
        "                 unk_init = torch.Tensor.normal_)\n",
        "\n",
        "LABEL.build_vocab(train_data)"
      ],
      "execution_count": 100,
      "outputs": []
    },
    {
      "cell_type": "code",
      "metadata": {
        "id": "Sd-wc-u5crMv"
      },
      "source": [
        "BATCH_SIZE = 64\n",
        "\n",
        "device = torch.device('cuda' if torch.cuda.is_available() else 'cpu')\n",
        "\n",
        "train_iterator, valid_iterator, test_iterator = data.BucketIterator.splits(\n",
        "    (train_data, valid_data, test_data), \n",
        "    batch_size = BATCH_SIZE,\n",
        "    sort_within_batch = True,\n",
        "    device = device)"
      ],
      "execution_count": 101,
      "outputs": []
    },
    {
      "cell_type": "code",
      "metadata": {
        "id": "qnCnRvWhjDv8"
      },
      "source": [
        "import torch.nn as nn\n",
        "\n",
        "class RNN(nn.Module):\n",
        "    def __init__(self, vocab_size, embedding_dim, hidden_dim, output_dim, n_layers, \n",
        "                 bidirectional, dropout, pad_idx):\n",
        "        \n",
        "        super().__init__()\n",
        "        \n",
        "        self.embedding = nn.Embedding(vocab_size, embedding_dim, padding_idx = pad_idx)\n",
        "        self.n_layers=n_layers\n",
        "        self.rnns = nn.ModuleList()\n",
        "        for i in range(n_layers):\n",
        "            input_size = embedding_dim if i == 0 else hidden_dim*2\n",
        "            self.rnns.append(nn.LSTM(input_size, hidden_dim, num_layers=1, bidirectional=bidirectional, dropout=dropout))\n",
        "        \n",
        "        self.fc = nn.Linear(hidden_dim * 2, output_dim)\n",
        "        \n",
        "        self.dropout = nn.Dropout(dropout)\n",
        "        \n",
        "    def forward(self, text, text_lengths):\n",
        "        \n",
        "        #text = [sent len, batch size]\n",
        "        text_lengths=text_lengths.cpu()\n",
        "        embedded = self.dropout(self.embedding(text))\n",
        "        \n",
        "        #embedded = [sent len, batch size, emb dim]\n",
        "        \n",
        "        #pack sequence\n",
        "        packed_embedded = nn.utils.rnn.pack_padded_sequence(embedded, text_lengths)\n",
        "        outputs = []\n",
        "        sent_variable=packed_embedded\n",
        "        for i in range(self.n_layers):\n",
        "            packed_output, (hidden, cell) = self.rnns[i](sent_variable)\n",
        "            sent_variable = packed_output\n",
        "        #unpack sequence\n",
        "        output, output_lengths = nn.utils.rnn.pad_packed_sequence(packed_output)\n",
        "\n",
        "        #output = [sent len, batch size, hid dim * num directions]\n",
        "        #output over padding tokens are zero tensors\n",
        "        \n",
        "        #hidden = [num layers * num directions, batch size, hid dim]\n",
        "        #cell = [num layers * num directions, batch size, hid dim]\n",
        "        \n",
        "        #concat the final forward (hidden[-2,:,:]) and backward (hidden[-1,:,:]) hidden layers\n",
        "        #and apply dropout\n",
        "        \n",
        "        hidden = self.dropout(torch.cat((hidden[-2,:,:], hidden[-1,:,:]), dim = 1))\n",
        "                \n",
        "        #hidden = [batch size, hid dim * num directions]\n",
        "            \n",
        "        return self.fc(hidden)"
      ],
      "execution_count": 102,
      "outputs": []
    },
    {
      "cell_type": "code",
      "metadata": {
        "id": "iAjCGI4VjNw5",
        "colab": {
          "base_uri": "https://localhost:8080/"
        },
        "outputId": "af064033-a9d0-4f8d-811b-b1516c534f92"
      },
      "source": [
        "INPUT_DIM = len(TEXT.vocab)\n",
        "EMBEDDING_DIM = 100\n",
        "HIDDEN_DIM = 256\n",
        "OUTPUT_DIM = 1\n",
        "N_LAYERS = 3\n",
        "BIDIRECTIONAL = True\n",
        "DROPOUT = 0.2\n",
        "PAD_IDX = TEXT.vocab.stoi[TEXT.pad_token]\n",
        "\n",
        "model = RNN(INPUT_DIM, \n",
        "            EMBEDDING_DIM, \n",
        "            HIDDEN_DIM, \n",
        "            OUTPUT_DIM, \n",
        "            N_LAYERS, \n",
        "            BIDIRECTIONAL, \n",
        "            DROPOUT, \n",
        "            PAD_IDX)"
      ],
      "execution_count": 103,
      "outputs": [
        {
          "output_type": "stream",
          "text": [
            "/usr/local/lib/python3.6/dist-packages/torch/nn/modules/rnn.py:61: UserWarning: dropout option adds dropout after all but last recurrent layer, so non-zero dropout expects num_layers greater than 1, but got dropout=0.2 and num_layers=1\n",
            "  \"num_layers={}\".format(dropout, num_layers))\n"
          ],
          "name": "stderr"
        }
      ]
    },
    {
      "cell_type": "code",
      "metadata": {
        "id": "NAiu-AMPjQyC",
        "colab": {
          "base_uri": "https://localhost:8080/"
        },
        "outputId": "33ebe151-7736-4f96-9033-6565261f85f4"
      },
      "source": [
        "def count_parameters(model):\n",
        "    return sum(p.numel() for p in model.parameters() if p.requires_grad)\n",
        "\n",
        "print(f'The model has {count_parameters(model):,} trainable parameters')"
      ],
      "execution_count": 104,
      "outputs": [
        {
          "output_type": "stream",
          "text": [
            "The model has 6,387,817 trainable parameters\n"
          ],
          "name": "stdout"
        }
      ]
    },
    {
      "cell_type": "code",
      "metadata": {
        "id": "6Gx-VILqjUfp",
        "colab": {
          "base_uri": "https://localhost:8080/"
        },
        "outputId": "bda6ab41-e291-43f9-dcf7-77394110d8c2"
      },
      "source": [
        "pretrained_embeddings = TEXT.vocab.vectors\n",
        "\n",
        "print(pretrained_embeddings.shape)"
      ],
      "execution_count": 105,
      "outputs": [
        {
          "output_type": "stream",
          "text": [
            "torch.Size([25002, 100])\n"
          ],
          "name": "stdout"
        }
      ]
    },
    {
      "cell_type": "code",
      "metadata": {
        "id": "B0oydYvdjWkf",
        "colab": {
          "base_uri": "https://localhost:8080/"
        },
        "outputId": "47efb831-02ce-4581-9130-291704ee8d14"
      },
      "source": [
        "model.embedding.weight.data.copy_(pretrained_embeddings)"
      ],
      "execution_count": 106,
      "outputs": [
        {
          "output_type": "execute_result",
          "data": {
            "text/plain": [
              "tensor([[-0.1117, -0.4966,  0.1631,  ...,  1.2647, -0.2753, -0.1325],\n",
              "        [-0.8555, -0.7208,  1.3755,  ...,  0.0825, -1.1314,  0.3997],\n",
              "        [-0.0382, -0.2449,  0.7281,  ..., -0.1459,  0.8278,  0.2706],\n",
              "        ...,\n",
              "        [ 0.9597,  0.8905, -0.7076,  ...,  0.3940, -1.2075, -0.9683],\n",
              "        [-0.3404,  0.2269,  0.0731,  ..., -0.4427,  0.6267,  0.2811],\n",
              "        [ 0.7507, -1.9179,  2.2029,  ..., -1.5966,  0.8308, -0.1398]])"
            ]
          },
          "metadata": {
            "tags": []
          },
          "execution_count": 106
        }
      ]
    },
    {
      "cell_type": "code",
      "metadata": {
        "id": "mQT6ktVRji39",
        "colab": {
          "base_uri": "https://localhost:8080/"
        },
        "outputId": "fdeeffe4-35d1-4022-abb0-0f12f38ced50"
      },
      "source": [
        "UNK_IDX = TEXT.vocab.stoi[TEXT.unk_token]\n",
        "\n",
        "model.embedding.weight.data[UNK_IDX] = torch.zeros(EMBEDDING_DIM)\n",
        "model.embedding.weight.data[PAD_IDX] = torch.zeros(EMBEDDING_DIM)\n",
        "\n",
        "print(model.embedding.weight.data)"
      ],
      "execution_count": 107,
      "outputs": [
        {
          "output_type": "stream",
          "text": [
            "tensor([[ 0.0000,  0.0000,  0.0000,  ...,  0.0000,  0.0000,  0.0000],\n",
            "        [ 0.0000,  0.0000,  0.0000,  ...,  0.0000,  0.0000,  0.0000],\n",
            "        [-0.0382, -0.2449,  0.7281,  ..., -0.1459,  0.8278,  0.2706],\n",
            "        ...,\n",
            "        [ 0.9597,  0.8905, -0.7076,  ...,  0.3940, -1.2075, -0.9683],\n",
            "        [-0.3404,  0.2269,  0.0731,  ..., -0.4427,  0.6267,  0.2811],\n",
            "        [ 0.7507, -1.9179,  2.2029,  ..., -1.5966,  0.8308, -0.1398]])\n"
          ],
          "name": "stdout"
        }
      ]
    },
    {
      "cell_type": "code",
      "metadata": {
        "id": "eWE_pilFjtoj"
      },
      "source": [
        "\n",
        "import torch.optim as optim\n",
        "\n",
        "optimizer = optim.Adam(model.parameters())"
      ],
      "execution_count": 108,
      "outputs": []
    },
    {
      "cell_type": "code",
      "metadata": {
        "id": "OUxTaj5ljvrr"
      },
      "source": [
        "criterion = nn.BCEWithLogitsLoss()\n",
        "\n",
        "model = model.to(device)\n",
        "criterion = criterion.to(device)"
      ],
      "execution_count": 109,
      "outputs": []
    },
    {
      "cell_type": "code",
      "metadata": {
        "id": "X_UEWAJujzQD"
      },
      "source": [
        "def binary_accuracy(preds, y):\n",
        "    \"\"\"\n",
        "    Returns accuracy per batch, i.e. if you get 8/10 right, this returns 0.8, NOT 8\n",
        "    \"\"\"\n",
        "\n",
        "    #round predictions to the closest integer\n",
        "    rounded_preds = torch.round(torch.sigmoid(preds))\n",
        "    correct = (rounded_preds == y).float() #convert into float for division \n",
        "    acc = correct.sum() / len(correct)\n",
        "    return acc"
      ],
      "execution_count": 110,
      "outputs": []
    },
    {
      "cell_type": "code",
      "metadata": {
        "id": "Gi3kiEwRj-Ve"
      },
      "source": [
        "def train(model, iterator, optimizer, criterion):\n",
        "    \n",
        "    epoch_loss = 0\n",
        "    epoch_acc = 0\n",
        "    \n",
        "    model.train()\n",
        "    \n",
        "    for batch in iterator:\n",
        "        \n",
        "        optimizer.zero_grad()\n",
        "        \n",
        "        text, text_lengths = batch.text\n",
        "        \n",
        "        predictions = model(text, text_lengths).squeeze(1)\n",
        "        \n",
        "        loss = criterion(predictions, batch.label)\n",
        "        \n",
        "        acc = binary_accuracy(predictions, batch.label)\n",
        "        \n",
        "        loss.backward()\n",
        "        \n",
        "        optimizer.step()\n",
        "        \n",
        "        epoch_loss += loss.item()\n",
        "        epoch_acc += acc.item()\n",
        "        \n",
        "    return epoch_loss / len(iterator), epoch_acc / len(iterator)"
      ],
      "execution_count": 111,
      "outputs": []
    },
    {
      "cell_type": "code",
      "metadata": {
        "id": "7bp_0Z5ykDi-"
      },
      "source": [
        "def evaluate(model, iterator, criterion):\n",
        "    \n",
        "    epoch_loss = 0\n",
        "    epoch_acc = 0\n",
        "    \n",
        "    model.eval()\n",
        "    \n",
        "    with torch.no_grad():\n",
        "    \n",
        "        for batch in iterator:\n",
        "\n",
        "            text, text_lengths = batch.text\n",
        "            \n",
        "            predictions = model(text, text_lengths).squeeze(1)\n",
        "            \n",
        "            loss = criterion(predictions, batch.label)\n",
        "            \n",
        "            acc = binary_accuracy(predictions, batch.label)\n",
        "\n",
        "            epoch_loss += loss.item()\n",
        "            epoch_acc += acc.item()\n",
        "        \n",
        "    return epoch_loss / len(iterator), epoch_acc / len(iterator)"
      ],
      "execution_count": 112,
      "outputs": []
    },
    {
      "cell_type": "code",
      "metadata": {
        "id": "Cr_r2v33kGpE"
      },
      "source": [
        "\n",
        "import time\n",
        "\n",
        "def epoch_time(start_time, end_time):\n",
        "    elapsed_time = end_time - start_time\n",
        "    elapsed_mins = int(elapsed_time / 60)\n",
        "    elapsed_secs = int(elapsed_time - (elapsed_mins * 60))\n",
        "    return elapsed_mins, elapsed_secs"
      ],
      "execution_count": 113,
      "outputs": []
    },
    {
      "cell_type": "code",
      "metadata": {
        "id": "oJBgBWPJkJVu",
        "colab": {
          "base_uri": "https://localhost:8080/"
        },
        "outputId": "0472425f-9c4c-468c-c955-0539d9f88a08"
      },
      "source": [
        "N_EPOCHS = 5\n",
        "\n",
        "best_valid_loss = float('inf')\n",
        "\n",
        "for epoch in range(N_EPOCHS):\n",
        "\n",
        "    start_time = time.time()\n",
        "    \n",
        "    train_loss, train_acc = train(model, train_iterator, optimizer, criterion)\n",
        "    valid_loss, valid_acc = evaluate(model, valid_iterator, criterion)\n",
        "    \n",
        "    end_time = time.time()\n",
        "\n",
        "    epoch_mins, epoch_secs = epoch_time(start_time, end_time)\n",
        "    \n",
        "    if valid_loss < best_valid_loss:\n",
        "        best_valid_loss = valid_loss\n",
        "        torch.save(model.state_dict(), 'tut2-model.pt')\n",
        "    \n",
        "    print(f'Epoch: {epoch+1:02} | Epoch Time: {epoch_mins}m {epoch_secs}s')\n",
        "    print(f'\\tTrain Loss: {train_loss:.3f} | Train Acc: {train_acc*100:.2f}%')\n",
        "    print(f'\\t Val. Loss: {valid_loss:.3f} |  Val. Acc: {valid_acc*100:.2f}%')"
      ],
      "execution_count": 116,
      "outputs": [
        {
          "output_type": "stream",
          "text": [
            "Epoch: 01 | Epoch Time: 0m 56s\n",
            "\tTrain Loss: 0.355 | Train Acc: 85.41%\n",
            "\t Val. Loss: 0.387 |  Val. Acc: 83.82%\n",
            "Epoch: 02 | Epoch Time: 0m 56s\n",
            "\tTrain Loss: 0.247 | Train Acc: 90.54%\n",
            "\t Val. Loss: 0.331 |  Val. Acc: 86.63%\n",
            "Epoch: 03 | Epoch Time: 0m 56s\n",
            "\tTrain Loss: 0.183 | Train Acc: 93.04%\n",
            "\t Val. Loss: 0.341 |  Val. Acc: 86.05%\n",
            "Epoch: 04 | Epoch Time: 0m 56s\n",
            "\tTrain Loss: 0.142 | Train Acc: 95.02%\n",
            "\t Val. Loss: 0.325 |  Val. Acc: 86.99%\n",
            "Epoch: 05 | Epoch Time: 0m 56s\n",
            "\tTrain Loss: 0.118 | Train Acc: 95.89%\n",
            "\t Val. Loss: 0.348 |  Val. Acc: 86.86%\n"
          ],
          "name": "stdout"
        }
      ]
    },
    {
      "cell_type": "code",
      "metadata": {
        "id": "hh8NeYYppKdH",
        "colab": {
          "base_uri": "https://localhost:8080/"
        },
        "outputId": "b9b8e5f5-1bd9-4e51-da8f-8fbbc698d121"
      },
      "source": [
        "model.load_state_dict(torch.load('tut2-model.pt'))\n",
        "\n",
        "test_loss, test_acc = evaluate(model, test_iterator, criterion)\n",
        "\n",
        "print(f'Test Loss: {test_loss:.3f} | Test Acc: {test_acc*100:.2f}%')\n"
      ],
      "execution_count": 117,
      "outputs": [
        {
          "output_type": "stream",
          "text": [
            "Test Loss: 0.389 | Test Acc: 84.53%\n"
          ],
          "name": "stdout"
        }
      ]
    }
  ]
}